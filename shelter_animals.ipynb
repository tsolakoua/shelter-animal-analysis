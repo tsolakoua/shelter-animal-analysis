{
 "cells": [
  {
   "cell_type": "markdown",
   "metadata": {},
   "source": [
    "## Shelter Animal Analysis"
   ]
  },
  {
   "cell_type": "markdown",
   "metadata": {},
   "source": [
    "### This is an analysis on Kaggle's [animal shelter](https://www.kaggle.com/c/shelter-animal-outcomes/data) dataset"
   ]
  },
  {
   "cell_type": "code",
   "execution_count": 1,
   "metadata": {},
   "outputs": [],
   "source": [
    "import pandas as pd"
   ]
  },
  {
   "cell_type": "markdown",
   "metadata": {},
   "source": [
    "### Importing the training dataset "
   ]
  },
  {
   "cell_type": "code",
   "execution_count": 2,
   "metadata": {},
   "outputs": [],
   "source": [
    "data = pd.read_csv(\"dataset/train.csv\")"
   ]
  },
  {
   "cell_type": "markdown",
   "metadata": {},
   "source": [
    "### Exploring dataset's shape and columns"
   ]
  },
  {
   "cell_type": "code",
   "execution_count": 3,
   "metadata": {},
   "outputs": [
    {
     "name": "stdout",
     "output_type": "stream",
     "text": [
      "(26729, 10)\n",
      "Index(['AnimalID', 'Name', 'DateTime', 'OutcomeType', 'OutcomeSubtype',\n",
      "       'AnimalType', 'SexuponOutcome', 'AgeuponOutcome', 'Breed', 'Color'],\n",
      "      dtype='object')\n"
     ]
    }
   ],
   "source": [
    "print(data.shape)\n",
    "print(data.columns)"
   ]
  },
  {
   "cell_type": "markdown",
   "metadata": {},
   "source": [
    "### Exploring the first 10 rows "
   ]
  },
  {
   "cell_type": "code",
   "execution_count": 4,
   "metadata": {},
   "outputs": [
    {
     "name": "stdout",
     "output_type": "stream",
     "text": [
      "  AnimalID     Name             DateTime      OutcomeType OutcomeSubtype  \\\n",
      "0  A671945  Hambone  2014-02-12 18:22:00  Return_to_owner            NaN   \n",
      "1  A656520    Emily  2013-10-13 12:44:00       Euthanasia      Suffering   \n",
      "2  A686464   Pearce  2015-01-31 12:28:00         Adoption         Foster   \n",
      "3  A683430      NaN  2014-07-11 19:09:00         Transfer        Partner   \n",
      "4  A667013      NaN  2013-11-15 12:52:00         Transfer        Partner   \n",
      "5  A677334     Elsa  2014-04-25 13:04:00         Transfer        Partner   \n",
      "6  A699218    Jimmy  2015-03-28 13:11:00         Transfer        Partner   \n",
      "7  A701489      NaN  2015-04-30 17:02:00         Transfer        Partner   \n",
      "8  A671784     Lucy  2014-02-04 17:17:00         Adoption            NaN   \n",
      "9  A677747      NaN  2014-05-03 07:48:00         Adoption        Offsite   \n",
      "\n",
      "  AnimalType SexuponOutcome AgeuponOutcome                              Breed  \\\n",
      "0        Dog  Neutered Male         1 year              Shetland Sheepdog Mix   \n",
      "1        Cat  Spayed Female         1 year             Domestic Shorthair Mix   \n",
      "2        Dog  Neutered Male        2 years                       Pit Bull Mix   \n",
      "3        Cat    Intact Male        3 weeks             Domestic Shorthair Mix   \n",
      "4        Dog  Neutered Male        2 years        Lhasa Apso/Miniature Poodle   \n",
      "5        Dog  Intact Female        1 month  Cairn Terrier/Chihuahua Shorthair   \n",
      "6        Cat    Intact Male        3 weeks             Domestic Shorthair Mix   \n",
      "7        Cat        Unknown        3 weeks             Domestic Shorthair Mix   \n",
      "8        Dog  Spayed Female       5 months      American Pit Bull Terrier Mix   \n",
      "9        Dog  Spayed Female         1 year                      Cairn Terrier   \n",
      "\n",
      "         Color  \n",
      "0  Brown/White  \n",
      "1  Cream Tabby  \n",
      "2   Blue/White  \n",
      "3   Blue Cream  \n",
      "4          Tan  \n",
      "5    Black/Tan  \n",
      "6   Blue Tabby  \n",
      "7  Brown Tabby  \n",
      "8    Red/White  \n",
      "9        White  \n"
     ]
    }
   ],
   "source": [
    "print(data.head(10))"
   ]
  },
  {
   "cell_type": "markdown",
   "metadata": {},
   "source": [
    "### Check for NaN Values\n",
    "#### Seems a lot of values missing in ```Name``` and ```OutcomeSubType```"
   ]
  },
  {
   "cell_type": "code",
   "execution_count": 19,
   "metadata": {},
   "outputs": [
    {
     "name": "stdout",
     "output_type": "stream",
     "text": [
      "<class 'pandas.core.frame.DataFrame'>\n",
      "RangeIndex: 26729 entries, 0 to 26728\n",
      "Data columns (total 10 columns):\n",
      "AnimalID          26729 non-null object\n",
      "Name              19038 non-null object\n",
      "DateTime          26729 non-null object\n",
      "OutcomeType       26729 non-null object\n",
      "OutcomeSubtype    13117 non-null object\n",
      "AnimalType        26729 non-null object\n",
      "SexuponOutcome    26728 non-null object\n",
      "AgeuponOutcome    26711 non-null object\n",
      "Breed             26729 non-null object\n",
      "Color             26729 non-null object\n",
      "dtypes: object(10)\n",
      "memory usage: 2.0+ MB\n",
      "None\n"
     ]
    }
   ],
   "source": [
    "print(data.info())"
   ]
  },
  {
   "cell_type": "markdown",
   "metadata": {},
   "source": [
    "### What is the meaning of every column in the data"
   ]
  },
  {
   "cell_type": "markdown",
   "metadata": {},
   "source": [
    "- AnimalID: unique ID \n",
    "- Name: name\n",
    "- DateTime: not really sure, datetime of the outcome maybe?\n",
    "- OutcomeType: Adoption, Died, Euthanasia, Return_to_owner, Transfer\n",
    "- OutcomeSubtype: Suffering, Partner, SCRP, Offsite\n",
    "- AnimalType: Cat or Dog\n",
    "- SexuponOutcome: Neutered Male, Intact Male, Spayed Female, Intact Female\n",
    "- AgeuponOutcome: age in months or years\n",
    "- Breed: breed\n",
    "- Color: color "
   ]
  },
  {
   "cell_type": "markdown",
   "metadata": {},
   "source": [
    "### What is the percentage outcome of every animal "
   ]
  },
  {
   "cell_type": "code",
   "execution_count": 18,
   "metadata": {},
   "outputs": [
    {
     "data": {
      "text/plain": [
       "OutcomeType\n",
       "Adoption           0.402896\n",
       "Died               0.007370\n",
       "Euthanasia         0.058177\n",
       "Return_to_owner    0.179056\n",
       "Transfer           0.352501\n",
       "dtype: float64"
      ]
     },
     "execution_count": 18,
     "metadata": {},
     "output_type": "execute_result"
    }
   ],
   "source": [
    "data.groupby(['OutcomeType']).size().transform(lambda x: x/sum(x))"
   ]
  }
 ],
 "metadata": {
  "kernelspec": {
   "display_name": "Python 3",
   "language": "python",
   "name": "python3"
  },
  "language_info": {
   "codemirror_mode": {
    "name": "ipython",
    "version": 3
   },
   "file_extension": ".py",
   "mimetype": "text/x-python",
   "name": "python",
   "nbconvert_exporter": "python",
   "pygments_lexer": "ipython3",
   "version": "3.6.4"
  }
 },
 "nbformat": 4,
 "nbformat_minor": 2
}
